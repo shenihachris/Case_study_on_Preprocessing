{
 "cells": [
  {
   "cell_type": "markdown",
   "id": "558afbce-efa2-4579-9aa5-d0a5e7296b47",
   "metadata": {},
   "source": [
    "**CASE STUDY ON PREPROCESSING**"
   ]
  },
  {
   "cell_type": "markdown",
   "id": "d79250e7-b7e5-4c8e-9f45-2cc81332f8cd",
   "metadata": {},
   "source": [
    "**Dataset Overview**"
   ]
  },
  {
   "cell_type": "code",
   "execution_count": 60,
   "id": "5c375694-22bf-42c9-9654-a2080c7cd7e3",
   "metadata": {},
   "outputs": [
    {
     "data": {
      "text/html": [
       "<div>\n",
       "<style scoped>\n",
       "    .dataframe tbody tr th:only-of-type {\n",
       "        vertical-align: middle;\n",
       "    }\n",
       "\n",
       "    .dataframe tbody tr th {\n",
       "        vertical-align: top;\n",
       "    }\n",
       "\n",
       "    .dataframe thead th {\n",
       "        text-align: right;\n",
       "    }\n",
       "</style>\n",
       "<table border=\"1\" class=\"dataframe\">\n",
       "  <thead>\n",
       "    <tr style=\"text-align: right;\">\n",
       "      <th></th>\n",
       "      <th>ID</th>\n",
       "      <th>Date House was Sold</th>\n",
       "      <th>Sale Price</th>\n",
       "      <th>No of Bedrooms</th>\n",
       "      <th>No of Bathrooms</th>\n",
       "      <th>Flat Area (in Sqft)</th>\n",
       "      <th>Lot Area (in Sqft)</th>\n",
       "      <th>No of Floors</th>\n",
       "      <th>Waterfront View</th>\n",
       "      <th>No of Times Visited</th>\n",
       "      <th>...</th>\n",
       "      <th>Overall Grade</th>\n",
       "      <th>Area of the House from Basement (in Sqft)</th>\n",
       "      <th>Basement Area (in Sqft)</th>\n",
       "      <th>Age of House (in Years)</th>\n",
       "      <th>Renovated Year</th>\n",
       "      <th>Zipcode</th>\n",
       "      <th>Latitude</th>\n",
       "      <th>Longitude</th>\n",
       "      <th>Living Area after Renovation (in Sqft)</th>\n",
       "      <th>Lot Area after Renovation (in Sqft)</th>\n",
       "    </tr>\n",
       "  </thead>\n",
       "  <tbody>\n",
       "    <tr>\n",
       "      <th>0</th>\n",
       "      <td>7129300520</td>\n",
       "      <td>14 October 2017</td>\n",
       "      <td>221900.0</td>\n",
       "      <td>3</td>\n",
       "      <td>1.00</td>\n",
       "      <td>1180.0</td>\n",
       "      <td>5650.0</td>\n",
       "      <td>1.0</td>\n",
       "      <td>No</td>\n",
       "      <td>NaN</td>\n",
       "      <td>...</td>\n",
       "      <td>7</td>\n",
       "      <td>1180.0</td>\n",
       "      <td>0</td>\n",
       "      <td>63</td>\n",
       "      <td>0</td>\n",
       "      <td>98178.0</td>\n",
       "      <td>47.5112</td>\n",
       "      <td>-122.257</td>\n",
       "      <td>1340.0</td>\n",
       "      <td>5650</td>\n",
       "    </tr>\n",
       "    <tr>\n",
       "      <th>1</th>\n",
       "      <td>6414100192</td>\n",
       "      <td>14 December 2017</td>\n",
       "      <td>538000.0</td>\n",
       "      <td>3</td>\n",
       "      <td>2.25</td>\n",
       "      <td>2570.0</td>\n",
       "      <td>7242.0</td>\n",
       "      <td>2.0</td>\n",
       "      <td>No</td>\n",
       "      <td>NaN</td>\n",
       "      <td>...</td>\n",
       "      <td>7</td>\n",
       "      <td>2170.0</td>\n",
       "      <td>400</td>\n",
       "      <td>67</td>\n",
       "      <td>1991</td>\n",
       "      <td>98125.0</td>\n",
       "      <td>47.7210</td>\n",
       "      <td>-122.319</td>\n",
       "      <td>1690.0</td>\n",
       "      <td>7639</td>\n",
       "    </tr>\n",
       "    <tr>\n",
       "      <th>2</th>\n",
       "      <td>5631500400</td>\n",
       "      <td>15 February 2016</td>\n",
       "      <td>180000.0</td>\n",
       "      <td>2</td>\n",
       "      <td>1.00</td>\n",
       "      <td>770.0</td>\n",
       "      <td>10000.0</td>\n",
       "      <td>1.0</td>\n",
       "      <td>No</td>\n",
       "      <td>NaN</td>\n",
       "      <td>...</td>\n",
       "      <td>6</td>\n",
       "      <td>770.0</td>\n",
       "      <td>0</td>\n",
       "      <td>85</td>\n",
       "      <td>0</td>\n",
       "      <td>98028.0</td>\n",
       "      <td>47.7379</td>\n",
       "      <td>-122.233</td>\n",
       "      <td>2720.0</td>\n",
       "      <td>8062</td>\n",
       "    </tr>\n",
       "    <tr>\n",
       "      <th>3</th>\n",
       "      <td>2487200875</td>\n",
       "      <td>14 December 2017</td>\n",
       "      <td>604000.0</td>\n",
       "      <td>4</td>\n",
       "      <td>3.00</td>\n",
       "      <td>1960.0</td>\n",
       "      <td>5000.0</td>\n",
       "      <td>1.0</td>\n",
       "      <td>No</td>\n",
       "      <td>NaN</td>\n",
       "      <td>...</td>\n",
       "      <td>7</td>\n",
       "      <td>1050.0</td>\n",
       "      <td>910</td>\n",
       "      <td>53</td>\n",
       "      <td>0</td>\n",
       "      <td>98136.0</td>\n",
       "      <td>47.5208</td>\n",
       "      <td>-122.393</td>\n",
       "      <td>1360.0</td>\n",
       "      <td>5000</td>\n",
       "    </tr>\n",
       "    <tr>\n",
       "      <th>4</th>\n",
       "      <td>1954400510</td>\n",
       "      <td>15 February 2016</td>\n",
       "      <td>510000.0</td>\n",
       "      <td>3</td>\n",
       "      <td>2.00</td>\n",
       "      <td>1680.0</td>\n",
       "      <td>8080.0</td>\n",
       "      <td>1.0</td>\n",
       "      <td>No</td>\n",
       "      <td>NaN</td>\n",
       "      <td>...</td>\n",
       "      <td>8</td>\n",
       "      <td>1680.0</td>\n",
       "      <td>0</td>\n",
       "      <td>31</td>\n",
       "      <td>0</td>\n",
       "      <td>98074.0</td>\n",
       "      <td>47.6168</td>\n",
       "      <td>-122.045</td>\n",
       "      <td>1800.0</td>\n",
       "      <td>7503</td>\n",
       "    </tr>\n",
       "  </tbody>\n",
       "</table>\n",
       "<p>5 rows × 21 columns</p>\n",
       "</div>"
      ],
      "text/plain": [
       "           ID Date House was Sold  Sale Price  No of Bedrooms  \\\n",
       "0  7129300520     14 October 2017    221900.0               3   \n",
       "1  6414100192    14 December 2017    538000.0               3   \n",
       "2  5631500400    15 February 2016    180000.0               2   \n",
       "3  2487200875    14 December 2017    604000.0               4   \n",
       "4  1954400510    15 February 2016    510000.0               3   \n",
       "\n",
       "   No of Bathrooms  Flat Area (in Sqft)  Lot Area (in Sqft)  No of Floors  \\\n",
       "0             1.00               1180.0              5650.0           1.0   \n",
       "1             2.25               2570.0              7242.0           2.0   \n",
       "2             1.00                770.0             10000.0           1.0   \n",
       "3             3.00               1960.0              5000.0           1.0   \n",
       "4             2.00               1680.0              8080.0           1.0   \n",
       "\n",
       "  Waterfront View No of Times Visited  ... Overall Grade  \\\n",
       "0              No                 NaN  ...             7   \n",
       "1              No                 NaN  ...             7   \n",
       "2              No                 NaN  ...             6   \n",
       "3              No                 NaN  ...             7   \n",
       "4              No                 NaN  ...             8   \n",
       "\n",
       "   Area of the House from Basement (in Sqft)  Basement Area (in Sqft)  \\\n",
       "0                                     1180.0                        0   \n",
       "1                                     2170.0                      400   \n",
       "2                                      770.0                        0   \n",
       "3                                     1050.0                      910   \n",
       "4                                     1680.0                        0   \n",
       "\n",
       "   Age of House (in Years)  Renovated Year  Zipcode  Latitude  Longitude  \\\n",
       "0                       63               0  98178.0   47.5112   -122.257   \n",
       "1                       67            1991  98125.0   47.7210   -122.319   \n",
       "2                       85               0  98028.0   47.7379   -122.233   \n",
       "3                       53               0  98136.0   47.5208   -122.393   \n",
       "4                       31               0  98074.0   47.6168   -122.045   \n",
       "\n",
       "   Living Area after Renovation (in Sqft)  Lot Area after Renovation (in Sqft)  \n",
       "0                                  1340.0                                 5650  \n",
       "1                                  1690.0                                 7639  \n",
       "2                                  2720.0                                 8062  \n",
       "3                                  1360.0                                 5000  \n",
       "4                                  1800.0                                 7503  \n",
       "\n",
       "[5 rows x 21 columns]"
      ]
     },
     "execution_count": 60,
     "metadata": {},
     "output_type": "execute_result"
    }
   ],
   "source": [
    "import pandas as pd\n",
    "\n",
    "df = pd.read_csv(\"House_Pricing.csv\")\n",
    "df.head()\n"
   ]
  },
  {
   "cell_type": "code",
   "execution_count": 61,
   "id": "97b1aab6-974f-44e1-b6f0-3d38437e5606",
   "metadata": {},
   "outputs": [
    {
     "name": "stdout",
     "output_type": "stream",
     "text": [
      "<class 'pandas.core.frame.DataFrame'>\n",
      "RangeIndex: 21613 entries, 0 to 21612\n",
      "Data columns (total 21 columns):\n",
      " #   Column                                     Non-Null Count  Dtype  \n",
      "---  ------                                     --------------  -----  \n",
      " 0   ID                                         21613 non-null  int64  \n",
      " 1   Date House was Sold                        21613 non-null  object \n",
      " 2   Sale Price                                 21609 non-null  float64\n",
      " 3   No of Bedrooms                             21613 non-null  int64  \n",
      " 4   No of Bathrooms                            21609 non-null  float64\n",
      " 5   Flat Area (in Sqft)                        21604 non-null  float64\n",
      " 6   Lot Area (in Sqft)                         21604 non-null  float64\n",
      " 7   No of Floors                               21613 non-null  float64\n",
      " 8   Waterfront View                            21613 non-null  object \n",
      " 9   No of Times Visited                        2124 non-null   object \n",
      " 10  Condition of the House                     21613 non-null  object \n",
      " 11  Overall Grade                              21613 non-null  int64  \n",
      " 12  Area of the House from Basement (in Sqft)  21610 non-null  float64\n",
      " 13  Basement Area (in Sqft)                    21613 non-null  int64  \n",
      " 14  Age of House (in Years)                    21613 non-null  int64  \n",
      " 15  Renovated Year                             21613 non-null  int64  \n",
      " 16  Zipcode                                    21612 non-null  float64\n",
      " 17  Latitude                                   21612 non-null  float64\n",
      " 18  Longitude                                  21612 non-null  float64\n",
      " 19  Living Area after Renovation (in Sqft)     21612 non-null  float64\n",
      " 20  Lot Area after Renovation (in Sqft)        21613 non-null  int64  \n",
      "dtypes: float64(10), int64(7), object(4)\n",
      "memory usage: 3.5+ MB\n"
     ]
    }
   ],
   "source": [
    "df.info()"
   ]
  },
  {
   "cell_type": "code",
   "execution_count": 62,
   "id": "58b12eb4-03ca-479b-ac46-9ae9197c30cb",
   "metadata": {},
   "outputs": [
    {
     "data": {
      "text/html": [
       "<div>\n",
       "<style scoped>\n",
       "    .dataframe tbody tr th:only-of-type {\n",
       "        vertical-align: middle;\n",
       "    }\n",
       "\n",
       "    .dataframe tbody tr th {\n",
       "        vertical-align: top;\n",
       "    }\n",
       "\n",
       "    .dataframe thead th {\n",
       "        text-align: right;\n",
       "    }\n",
       "</style>\n",
       "<table border=\"1\" class=\"dataframe\">\n",
       "  <thead>\n",
       "    <tr style=\"text-align: right;\">\n",
       "      <th></th>\n",
       "      <th>ID</th>\n",
       "      <th>Sale Price</th>\n",
       "      <th>No of Bedrooms</th>\n",
       "      <th>No of Bathrooms</th>\n",
       "      <th>Flat Area (in Sqft)</th>\n",
       "      <th>Lot Area (in Sqft)</th>\n",
       "      <th>No of Floors</th>\n",
       "      <th>Overall Grade</th>\n",
       "      <th>Area of the House from Basement (in Sqft)</th>\n",
       "      <th>Basement Area (in Sqft)</th>\n",
       "      <th>Age of House (in Years)</th>\n",
       "      <th>Renovated Year</th>\n",
       "      <th>Zipcode</th>\n",
       "      <th>Latitude</th>\n",
       "      <th>Longitude</th>\n",
       "      <th>Living Area after Renovation (in Sqft)</th>\n",
       "      <th>Lot Area after Renovation (in Sqft)</th>\n",
       "    </tr>\n",
       "  </thead>\n",
       "  <tbody>\n",
       "    <tr>\n",
       "      <th>count</th>\n",
       "      <td>2.161300e+04</td>\n",
       "      <td>2.160900e+04</td>\n",
       "      <td>21613.000000</td>\n",
       "      <td>21609.000000</td>\n",
       "      <td>21604.000000</td>\n",
       "      <td>2.160400e+04</td>\n",
       "      <td>21613.000000</td>\n",
       "      <td>21613.000000</td>\n",
       "      <td>21610.000000</td>\n",
       "      <td>21613.000000</td>\n",
       "      <td>21613.000000</td>\n",
       "      <td>21613.000000</td>\n",
       "      <td>21612.000000</td>\n",
       "      <td>21612.000000</td>\n",
       "      <td>21612.000000</td>\n",
       "      <td>21612.000000</td>\n",
       "      <td>21613.000000</td>\n",
       "    </tr>\n",
       "    <tr>\n",
       "      <th>mean</th>\n",
       "      <td>4.580302e+09</td>\n",
       "      <td>5.401984e+05</td>\n",
       "      <td>3.370842</td>\n",
       "      <td>2.114732</td>\n",
       "      <td>2079.931772</td>\n",
       "      <td>1.510776e+04</td>\n",
       "      <td>1.494309</td>\n",
       "      <td>7.623467</td>\n",
       "      <td>1788.344193</td>\n",
       "      <td>291.509045</td>\n",
       "      <td>46.994864</td>\n",
       "      <td>84.402258</td>\n",
       "      <td>98077.937766</td>\n",
       "      <td>47.560048</td>\n",
       "      <td>-122.213892</td>\n",
       "      <td>1986.538914</td>\n",
       "      <td>12768.455652</td>\n",
       "    </tr>\n",
       "    <tr>\n",
       "      <th>std</th>\n",
       "      <td>2.876566e+09</td>\n",
       "      <td>3.673890e+05</td>\n",
       "      <td>0.930062</td>\n",
       "      <td>0.770138</td>\n",
       "      <td>918.487597</td>\n",
       "      <td>4.142827e+04</td>\n",
       "      <td>0.539989</td>\n",
       "      <td>1.105439</td>\n",
       "      <td>827.982604</td>\n",
       "      <td>442.575043</td>\n",
       "      <td>29.373411</td>\n",
       "      <td>401.679240</td>\n",
       "      <td>53.505425</td>\n",
       "      <td>0.138565</td>\n",
       "      <td>0.140830</td>\n",
       "      <td>685.404255</td>\n",
       "      <td>27304.179631</td>\n",
       "    </tr>\n",
       "    <tr>\n",
       "      <th>min</th>\n",
       "      <td>1.000102e+06</td>\n",
       "      <td>7.500000e+04</td>\n",
       "      <td>0.000000</td>\n",
       "      <td>0.000000</td>\n",
       "      <td>290.000000</td>\n",
       "      <td>5.200000e+02</td>\n",
       "      <td>1.000000</td>\n",
       "      <td>1.000000</td>\n",
       "      <td>290.000000</td>\n",
       "      <td>0.000000</td>\n",
       "      <td>3.000000</td>\n",
       "      <td>0.000000</td>\n",
       "      <td>98001.000000</td>\n",
       "      <td>47.155900</td>\n",
       "      <td>-122.519000</td>\n",
       "      <td>399.000000</td>\n",
       "      <td>651.000000</td>\n",
       "    </tr>\n",
       "    <tr>\n",
       "      <th>25%</th>\n",
       "      <td>2.123049e+09</td>\n",
       "      <td>3.219500e+05</td>\n",
       "      <td>3.000000</td>\n",
       "      <td>1.750000</td>\n",
       "      <td>1429.250000</td>\n",
       "      <td>5.040000e+03</td>\n",
       "      <td>1.000000</td>\n",
       "      <td>7.000000</td>\n",
       "      <td>1190.000000</td>\n",
       "      <td>0.000000</td>\n",
       "      <td>21.000000</td>\n",
       "      <td>0.000000</td>\n",
       "      <td>98033.000000</td>\n",
       "      <td>47.470975</td>\n",
       "      <td>-122.328000</td>\n",
       "      <td>1490.000000</td>\n",
       "      <td>5100.000000</td>\n",
       "    </tr>\n",
       "    <tr>\n",
       "      <th>50%</th>\n",
       "      <td>3.904930e+09</td>\n",
       "      <td>4.500000e+05</td>\n",
       "      <td>3.000000</td>\n",
       "      <td>2.250000</td>\n",
       "      <td>1910.000000</td>\n",
       "      <td>7.617500e+03</td>\n",
       "      <td>1.500000</td>\n",
       "      <td>7.000000</td>\n",
       "      <td>1560.000000</td>\n",
       "      <td>0.000000</td>\n",
       "      <td>43.000000</td>\n",
       "      <td>0.000000</td>\n",
       "      <td>98065.000000</td>\n",
       "      <td>47.571800</td>\n",
       "      <td>-122.230000</td>\n",
       "      <td>1840.000000</td>\n",
       "      <td>7620.000000</td>\n",
       "    </tr>\n",
       "    <tr>\n",
       "      <th>75%</th>\n",
       "      <td>7.308900e+09</td>\n",
       "      <td>6.450000e+05</td>\n",
       "      <td>4.000000</td>\n",
       "      <td>2.500000</td>\n",
       "      <td>2550.000000</td>\n",
       "      <td>1.068825e+04</td>\n",
       "      <td>2.000000</td>\n",
       "      <td>8.000000</td>\n",
       "      <td>2210.000000</td>\n",
       "      <td>560.000000</td>\n",
       "      <td>67.000000</td>\n",
       "      <td>0.000000</td>\n",
       "      <td>98118.000000</td>\n",
       "      <td>47.678000</td>\n",
       "      <td>-122.125000</td>\n",
       "      <td>2360.000000</td>\n",
       "      <td>10083.000000</td>\n",
       "    </tr>\n",
       "    <tr>\n",
       "      <th>max</th>\n",
       "      <td>9.900000e+09</td>\n",
       "      <td>7.700000e+06</td>\n",
       "      <td>33.000000</td>\n",
       "      <td>8.000000</td>\n",
       "      <td>13540.000000</td>\n",
       "      <td>1.651359e+06</td>\n",
       "      <td>3.500000</td>\n",
       "      <td>10.000000</td>\n",
       "      <td>9410.000000</td>\n",
       "      <td>4820.000000</td>\n",
       "      <td>118.000000</td>\n",
       "      <td>2015.000000</td>\n",
       "      <td>98199.000000</td>\n",
       "      <td>47.777600</td>\n",
       "      <td>-121.315000</td>\n",
       "      <td>6210.000000</td>\n",
       "      <td>871200.000000</td>\n",
       "    </tr>\n",
       "  </tbody>\n",
       "</table>\n",
       "</div>"
      ],
      "text/plain": [
       "                 ID    Sale Price  No of Bedrooms  No of Bathrooms  \\\n",
       "count  2.161300e+04  2.160900e+04    21613.000000     21609.000000   \n",
       "mean   4.580302e+09  5.401984e+05        3.370842         2.114732   \n",
       "std    2.876566e+09  3.673890e+05        0.930062         0.770138   \n",
       "min    1.000102e+06  7.500000e+04        0.000000         0.000000   \n",
       "25%    2.123049e+09  3.219500e+05        3.000000         1.750000   \n",
       "50%    3.904930e+09  4.500000e+05        3.000000         2.250000   \n",
       "75%    7.308900e+09  6.450000e+05        4.000000         2.500000   \n",
       "max    9.900000e+09  7.700000e+06       33.000000         8.000000   \n",
       "\n",
       "       Flat Area (in Sqft)  Lot Area (in Sqft)  No of Floors  Overall Grade  \\\n",
       "count         21604.000000        2.160400e+04  21613.000000   21613.000000   \n",
       "mean           2079.931772        1.510776e+04      1.494309       7.623467   \n",
       "std             918.487597        4.142827e+04      0.539989       1.105439   \n",
       "min             290.000000        5.200000e+02      1.000000       1.000000   \n",
       "25%            1429.250000        5.040000e+03      1.000000       7.000000   \n",
       "50%            1910.000000        7.617500e+03      1.500000       7.000000   \n",
       "75%            2550.000000        1.068825e+04      2.000000       8.000000   \n",
       "max           13540.000000        1.651359e+06      3.500000      10.000000   \n",
       "\n",
       "       Area of the House from Basement (in Sqft)  Basement Area (in Sqft)  \\\n",
       "count                               21610.000000             21613.000000   \n",
       "mean                                 1788.344193               291.509045   \n",
       "std                                   827.982604               442.575043   \n",
       "min                                   290.000000                 0.000000   \n",
       "25%                                  1190.000000                 0.000000   \n",
       "50%                                  1560.000000                 0.000000   \n",
       "75%                                  2210.000000               560.000000   \n",
       "max                                  9410.000000              4820.000000   \n",
       "\n",
       "       Age of House (in Years)  Renovated Year       Zipcode      Latitude  \\\n",
       "count             21613.000000    21613.000000  21612.000000  21612.000000   \n",
       "mean                 46.994864       84.402258  98077.937766     47.560048   \n",
       "std                  29.373411      401.679240     53.505425      0.138565   \n",
       "min                   3.000000        0.000000  98001.000000     47.155900   \n",
       "25%                  21.000000        0.000000  98033.000000     47.470975   \n",
       "50%                  43.000000        0.000000  98065.000000     47.571800   \n",
       "75%                  67.000000        0.000000  98118.000000     47.678000   \n",
       "max                 118.000000     2015.000000  98199.000000     47.777600   \n",
       "\n",
       "          Longitude  Living Area after Renovation (in Sqft)  \\\n",
       "count  21612.000000                            21612.000000   \n",
       "mean    -122.213892                             1986.538914   \n",
       "std        0.140830                              685.404255   \n",
       "min     -122.519000                              399.000000   \n",
       "25%     -122.328000                             1490.000000   \n",
       "50%     -122.230000                             1840.000000   \n",
       "75%     -122.125000                             2360.000000   \n",
       "max     -121.315000                             6210.000000   \n",
       "\n",
       "       Lot Area after Renovation (in Sqft)  \n",
       "count                         21613.000000  \n",
       "mean                          12768.455652  \n",
       "std                           27304.179631  \n",
       "min                             651.000000  \n",
       "25%                            5100.000000  \n",
       "50%                            7620.000000  \n",
       "75%                           10083.000000  \n",
       "max                          871200.000000  "
      ]
     },
     "execution_count": 62,
     "metadata": {},
     "output_type": "execute_result"
    }
   ],
   "source": [
    "df.describe()"
   ]
  },
  {
   "cell_type": "markdown",
   "id": "820c58c4-a57b-4503-8bc9-7f06052fa491",
   "metadata": {},
   "source": [
    "**Duplicate Removal**"
   ]
  },
  {
   "cell_type": "markdown",
   "id": "ce7ad0c8-5c2d-4602-bd2b-e0b00bf8f417",
   "metadata": {},
   "source": [
    "**Duplicate Removal on Rows**"
   ]
  },
  {
   "cell_type": "code",
   "execution_count": 63,
   "id": "238f3f96-0d3a-47f6-a3c3-fba00e9c62d3",
   "metadata": {},
   "outputs": [
    {
     "name": "stdout",
     "output_type": "stream",
     "text": [
      "Total duplicate rows: 0\n",
      "New dataset shape after duplicates removed: (21613, 21)\n"
     ]
    }
   ],
   "source": [
    "duplicate_rows = df.duplicated()\n",
    "print(f\"Total duplicate rows: {duplicate_rows.sum()}\")\n",
    "df_cleaned = df.drop_duplicates()\n",
    "print(f\"New dataset shape after duplicates removed: {df_cleaned.shape}\")\n"
   ]
  },
  {
   "cell_type": "markdown",
   "id": "595792f5-8b4f-4fdb-8ba8-6d770c2ccb89",
   "metadata": {},
   "source": [
    "**Duplicate Removal on Columns**"
   ]
  },
  {
   "cell_type": "code",
   "execution_count": 64,
   "id": "6e86fd77-715c-43be-ae71-496f65b55931",
   "metadata": {},
   "outputs": [
    {
     "name": "stdout",
     "output_type": "stream",
     "text": [
      "Duplicate columns: []\n",
      "New dataset shape after dropping duplicate columns: (21613, 21)\n"
     ]
    }
   ],
   "source": [
    "duplicate_columns = df.T.duplicated()\n",
    "dup_col_names = df.columns[duplicate_columns]\n",
    "print(f\"Duplicate columns: {dup_col_names.tolist()}\")\n",
    "df_cleaned = df.drop(columns=dup_col_names)\n",
    "print(f\"New dataset shape after dropping duplicate columns: {df_cleaned.shape}\")\n"
   ]
  },
  {
   "cell_type": "markdown",
   "id": "ca3fd103-b6d4-47a7-8629-cd13c1914002",
   "metadata": {},
   "source": [
    "**Handling Missing Values**"
   ]
  },
  {
   "cell_type": "code",
   "execution_count": 65,
   "id": "95fb6688-9cb6-4a46-9a6a-a04a8321370b",
   "metadata": {},
   "outputs": [
    {
     "name": "stdout",
     "output_type": "stream",
     "text": [
      "Missing values per column:\n",
      " ID                                               0\n",
      "Date House was Sold                              0\n",
      "Sale Price                                       4\n",
      "No of Bedrooms                                   0\n",
      "No of Bathrooms                                  4\n",
      "Flat Area (in Sqft)                              9\n",
      "Lot Area (in Sqft)                               9\n",
      "No of Floors                                     0\n",
      "Waterfront View                                  0\n",
      "No of Times Visited                          19489\n",
      "Condition of the House                           0\n",
      "Overall Grade                                    0\n",
      "Area of the House from Basement (in Sqft)        3\n",
      "Basement Area (in Sqft)                          0\n",
      "Age of House (in Years)                          0\n",
      "Renovated Year                                   0\n",
      "Zipcode                                          1\n",
      "Latitude                                         1\n",
      "Longitude                                        1\n",
      "Living Area after Renovation (in Sqft)           1\n",
      "Lot Area after Renovation (in Sqft)              0\n",
      "dtype: int64\n"
     ]
    }
   ],
   "source": [
    "missing_values = df.isnull().sum()\n",
    "print(\"Missing values per column:\\n\", missing_values)\n"
   ]
  },
  {
   "cell_type": "code",
   "execution_count": 66,
   "id": "eac7c166-4d4d-4260-adb6-9c2949433c12",
   "metadata": {},
   "outputs": [
    {
     "name": "stdout",
     "output_type": "stream",
     "text": [
      "ID                                             int64\n",
      "Date House was Sold                           object\n",
      "Sale Price                                   float64\n",
      "No of Bedrooms                                 int64\n",
      "No of Bathrooms                              float64\n",
      "Flat Area (in Sqft)                          float64\n",
      "Lot Area (in Sqft)                           float64\n",
      "No of Floors                                 float64\n",
      "Waterfront View                               object\n",
      "No of Times Visited                           object\n",
      "Condition of the House                        object\n",
      "Overall Grade                                  int64\n",
      "Area of the House from Basement (in Sqft)    float64\n",
      "Basement Area (in Sqft)                        int64\n",
      "Age of House (in Years)                        int64\n",
      "Renovated Year                                 int64\n",
      "Zipcode                                      float64\n",
      "Latitude                                     float64\n",
      "Longitude                                    float64\n",
      "Living Area after Renovation (in Sqft)       float64\n",
      "Lot Area after Renovation (in Sqft)            int64\n",
      "dtype: object\n",
      "Columns with non-numeric values: ['Date House was Sold', 'Waterfront View', 'No of Times Visited', 'Condition of the House']\n"
     ]
    }
   ],
   "source": [
    "print(df.dtypes)\n",
    "\n",
    "non_numeric_cols = df.select_dtypes(exclude=[\"number\"]).columns\n",
    "print(f\"Columns with non-numeric values: {non_numeric_cols.tolist()}\")\n"
   ]
  },
  {
   "cell_type": "code",
   "execution_count": 67,
   "id": "941e00e4-42e0-4e26-999d-b504394d547a",
   "metadata": {},
   "outputs": [],
   "source": [
    "for col in non_numeric_cols:\n",
    "    df[col] = pd.to_numeric(df[col], errors='coerce')\n"
   ]
  },
  {
   "cell_type": "code",
   "execution_count": 68,
   "id": "a2f8e7c6-9871-4e6a-bb20-f024067d94ba",
   "metadata": {},
   "outputs": [],
   "source": [
    "df.fillna(df.mean(), inplace=True)\n",
    "df.fillna(df.median(), inplace=True)\n"
   ]
  },
  {
   "cell_type": "code",
   "execution_count": 69,
   "id": "92d16ac3-b389-41bd-b4b0-b2ef44f0673c",
   "metadata": {},
   "outputs": [],
   "source": [
    "df.fillna(df.mode().iloc[0], inplace=True)\n",
    "df.ffill(inplace=True)  # Forward fill\n",
    "df.bfill(inplace=True)  # Backward fill\n"
   ]
  },
  {
   "cell_type": "code",
   "execution_count": 70,
   "id": "43d3a342-3b0a-459b-948e-dbf5d3179445",
   "metadata": {},
   "outputs": [
    {
     "name": "stdout",
     "output_type": "stream",
     "text": [
      "Missing values per column:\n",
      " ID                                               0\n",
      "Date House was Sold                          21613\n",
      "Sale Price                                       0\n",
      "No of Bedrooms                                   0\n",
      "No of Bathrooms                                  0\n",
      "Flat Area (in Sqft)                              0\n",
      "Lot Area (in Sqft)                               0\n",
      "No of Floors                                     0\n",
      "Waterfront View                              21613\n",
      "No of Times Visited                          21613\n",
      "Condition of the House                       21613\n",
      "Overall Grade                                    0\n",
      "Area of the House from Basement (in Sqft)        0\n",
      "Basement Area (in Sqft)                          0\n",
      "Age of House (in Years)                          0\n",
      "Renovated Year                                   0\n",
      "Zipcode                                          0\n",
      "Latitude                                         0\n",
      "Longitude                                        0\n",
      "Living Area after Renovation (in Sqft)           0\n",
      "Lot Area after Renovation (in Sqft)              0\n",
      "dtype: int64\n"
     ]
    }
   ],
   "source": [
    "missing_values = df.isnull().sum()\n",
    "print(\"Missing values per column:\\n\", missing_values)\n"
   ]
  },
  {
   "cell_type": "code",
   "execution_count": 71,
   "id": "f3c5ba58-97e0-4fb6-9b16-0488d57268f8",
   "metadata": {},
   "outputs": [],
   "source": [
    "df[\"Age of House (in Years)\"] = df[\"Age of House (in Years)\"].fillna(df[\"Age of House (in Years)\"].mean())\n",
    "df[\"No of Bedrooms\"] = df[\"No of Bedrooms\"].fillna(df[\"No of Bedrooms\"].mean())\n",
    "\n",
    "df[\"Sale Price\"] = df[\"Sale Price\"].fillna(df[\"Sale Price\"].median())\n",
    "df[\"Flat Area (in Sqft)\"] = df[\"Flat Area (in Sqft)\"].fillna(df[\"Flat Area (in Sqft)\"].median())\n",
    "df[\"Lot Area (in Sqft)\"] = df[\"Lot Area (in Sqft)\"].fillna(df[\"Lot Area (in Sqft)\"].median())\n"
   ]
  },
  {
   "cell_type": "code",
   "execution_count": 72,
   "id": "aacac8e2-c67c-44c6-90b7-26db2ed536a2",
   "metadata": {},
   "outputs": [
    {
     "name": "stdout",
     "output_type": "stream",
     "text": [
      "ID                                               0\n",
      "Date House was Sold                          21613\n",
      "Sale Price                                       0\n",
      "No of Bedrooms                                   0\n",
      "No of Bathrooms                                  0\n",
      "Flat Area (in Sqft)                              0\n",
      "Lot Area (in Sqft)                               0\n",
      "No of Floors                                     0\n",
      "Waterfront View                              21613\n",
      "No of Times Visited                          21613\n",
      "Condition of the House                       21613\n",
      "Overall Grade                                    0\n",
      "Area of the House from Basement (in Sqft)        0\n",
      "Basement Area (in Sqft)                          0\n",
      "Age of House (in Years)                          0\n",
      "Renovated Year                                   0\n",
      "Zipcode                                          0\n",
      "Latitude                                         0\n",
      "Longitude                                        0\n",
      "Living Area after Renovation (in Sqft)           0\n",
      "Lot Area after Renovation (in Sqft)              0\n",
      "dtype: int64\n"
     ]
    }
   ],
   "source": [
    "print(df.isnull().sum()) "
   ]
  },
  {
   "cell_type": "markdown",
   "id": "cc37f6d8-ba9d-41dd-8b19-aaf6a01c6b77",
   "metadata": {},
   "source": [
    "**Scaling Numeric Variables**"
   ]
  },
  {
   "cell_type": "code",
   "execution_count": 73,
   "id": "e7bf8266-e5b6-4c1a-87ef-bbb0539e29c4",
   "metadata": {},
   "outputs": [
    {
     "name": "stdout",
     "output_type": "stream",
     "text": [
      "Numerical columns for scaling: ['ID', 'Date House was Sold', 'No of Bedrooms', 'No of Bathrooms', 'Flat Area (in Sqft)', 'Lot Area (in Sqft)', 'No of Floors', 'Waterfront View', 'No of Times Visited', 'Condition of the House', 'Overall Grade', 'Area of the House from Basement (in Sqft)', 'Basement Area (in Sqft)', 'Age of House (in Years)', 'Renovated Year', 'Zipcode', 'Latitude', 'Longitude', 'Living Area after Renovation (in Sqft)', 'Lot Area after Renovation (in Sqft)']\n"
     ]
    }
   ],
   "source": [
    "numerical_cols = df.select_dtypes(include=[\"number\"]).columns.drop(\"Sale Price\")\n",
    "print(\"Numerical columns for scaling:\", numerical_cols.tolist())\n"
   ]
  },
  {
   "cell_type": "code",
   "execution_count": 74,
   "id": "9e292ff7-344e-4f51-b622-c83202b9a1e9",
   "metadata": {},
   "outputs": [
    {
     "name": "stdout",
     "output_type": "stream",
     "text": [
      "         ID  Date House was Sold  Sale Price  No of Bedrooms  No of Bathrooms  \\\n",
      "0  0.720103                  NaN    221900.0        0.090909          0.12500   \n",
      "1  0.647853                  NaN    538000.0        0.090909          0.28125   \n",
      "2  0.568795                  NaN    180000.0        0.060606          0.12500   \n",
      "3  0.251157                  NaN    604000.0        0.121212          0.37500   \n",
      "4  0.197333                  NaN    510000.0        0.090909          0.25000   \n",
      "\n",
      "   Flat Area (in Sqft)  Lot Area (in Sqft)  No of Floors  Waterfront View  \\\n",
      "0             0.067170            0.003108           0.0              NaN   \n",
      "1             0.172075            0.004072           0.4              NaN   \n",
      "2             0.036226            0.005743           0.0              NaN   \n",
      "3             0.126038            0.002714           0.0              NaN   \n",
      "4             0.104906            0.004579           0.0              NaN   \n",
      "\n",
      "   No of Times Visited  ...  Overall Grade  \\\n",
      "0                  NaN  ...       0.666667   \n",
      "1                  NaN  ...       0.666667   \n",
      "2                  NaN  ...       0.555556   \n",
      "3                  NaN  ...       0.666667   \n",
      "4                  NaN  ...       0.777778   \n",
      "\n",
      "   Area of the House from Basement (in Sqft)  Basement Area (in Sqft)  \\\n",
      "0                                   0.097588                 0.000000   \n",
      "1                                   0.206140                 0.082988   \n",
      "2                                   0.052632                 0.000000   \n",
      "3                                   0.083333                 0.188797   \n",
      "4                                   0.152412                 0.000000   \n",
      "\n",
      "   Age of House (in Years)  Renovated Year   Zipcode  Latitude  Longitude  \\\n",
      "0                 0.521739        0.000000  0.893939  0.571498   0.217608   \n",
      "1                 0.556522        0.988089  0.626263  0.908959   0.166113   \n",
      "2                 0.713043        0.000000  0.136364  0.936143   0.237542   \n",
      "3                 0.434783        0.000000  0.681818  0.586939   0.104651   \n",
      "4                 0.243478        0.000000  0.368687  0.741354   0.393688   \n",
      "\n",
      "   Living Area after Renovation (in Sqft)  Lot Area after Renovation (in Sqft)  \n",
      "0                                0.161934                             0.005742  \n",
      "1                                0.222165                             0.008027  \n",
      "2                                0.399415                             0.008513  \n",
      "3                                0.165376                             0.004996  \n",
      "4                                0.241094                             0.007871  \n",
      "\n",
      "[5 rows x 21 columns]\n"
     ]
    },
    {
     "name": "stderr",
     "output_type": "stream",
     "text": [
      "C:\\Users\\sheni\\AppData\\Local\\Programs\\Python\\Python313\\Lib\\site-packages\\sklearn\\utils\\_array_api.py:776: RuntimeWarning: All-NaN slice encountered\n",
      "  return xp.asarray(numpy.nanmin(X, axis=axis))\n",
      "C:\\Users\\sheni\\AppData\\Local\\Programs\\Python\\Python313\\Lib\\site-packages\\sklearn\\utils\\_array_api.py:793: RuntimeWarning: All-NaN slice encountered\n",
      "  return xp.asarray(numpy.nanmax(X, axis=axis))\n"
     ]
    }
   ],
   "source": [
    "from sklearn.preprocessing import MinMaxScaler\n",
    "\n",
    "minmax_scaler = MinMaxScaler()\n",
    "\n",
    "df_scaled = df.copy()\n",
    "df_scaled[numerical_cols] = minmax_scaler.fit_transform(df[numerical_cols])\n",
    "\n",
    "print(df_scaled.head())  "
   ]
  },
  {
   "cell_type": "code",
   "execution_count": 75,
   "id": "1dae3d2e-c48f-4d49-ab9e-5bf7d5c65d7f",
   "metadata": {},
   "outputs": [
    {
     "name": "stdout",
     "output_type": "stream",
     "text": [
      "         ID  Date House was Sold  Sale Price  No of Bedrooms  No of Bathrooms  \\\n",
      "0  0.886146                  NaN    221900.0       -0.398737        -1.447612   \n",
      "1  0.637511                  NaN    538000.0       -0.398737         0.175661   \n",
      "2  0.365444                  NaN    180000.0       -1.473959        -1.447612   \n",
      "3 -0.727656                  NaN    604000.0        0.676485         1.149625   \n",
      "4 -0.912881                  NaN    510000.0       -0.398737        -0.148993   \n",
      "\n",
      "   Flat Area (in Sqft)  Lot Area (in Sqft)  No of Floors  Waterfront View  \\\n",
      "0            -0.980024           -0.228345     -0.915427              NaN   \n",
      "1             0.533683           -0.189908      0.936506              NaN   \n",
      "2            -1.426513           -0.123320     -0.915427              NaN   \n",
      "3            -0.130605           -0.244039     -0.915427              NaN   \n",
      "4            -0.435525           -0.169676     -0.915427              NaN   \n",
      "\n",
      "   No of Times Visited  ...  Overall Grade  \\\n",
      "0                  NaN  ...      -0.564013   \n",
      "1                  NaN  ...      -0.564013   \n",
      "2                  NaN  ...      -1.468651   \n",
      "3                  NaN  ...      -0.564013   \n",
      "4                  NaN  ...       0.340626   \n",
      "\n",
      "   Area of the House from Basement (in Sqft)  Basement Area (in Sqft)  \\\n",
      "0                                  -0.734799                -0.658681   \n",
      "1                                   0.460989                 0.245141   \n",
      "2                                  -1.230024                -0.658681   \n",
      "3                                  -0.891821                 1.397515   \n",
      "4                                  -0.130865                -0.658681   \n",
      "\n",
      "   Age of House (in Years)  Renovated Year   Zipcode  Latitude  Longitude  \\\n",
      "0                 0.544898       -0.210128  1.870219 -0.352541  -0.306117   \n",
      "1                 0.681079        4.746678  0.879619  1.161620  -0.746386   \n",
      "2                 1.293892       -0.210128 -0.933365  1.283590  -0.135691   \n",
      "3                 0.204446       -0.210128  1.085216 -0.283256  -1.271867   \n",
      "4                -0.544548       -0.210128 -0.073599  0.409591   1.199316   \n",
      "\n",
      "   Living Area after Renovation (in Sqft)  Lot Area after Renovation (in Sqft)  \n",
      "0                               -0.943339                            -0.260715  \n",
      "1                               -0.432668                            -0.187868  \n",
      "2                                1.070164                            -0.172375  \n",
      "3                               -0.914158                            -0.284522  \n",
      "4                               -0.272172                            -0.192849  \n",
      "\n",
      "[5 rows x 21 columns]\n"
     ]
    },
    {
     "name": "stderr",
     "output_type": "stream",
     "text": [
      "C:\\Users\\sheni\\AppData\\Local\\Programs\\Python\\Python313\\Lib\\site-packages\\sklearn\\utils\\extmath.py:1101: RuntimeWarning: invalid value encountered in divide\n",
      "  updated_mean = (last_sum + new_sum) / updated_sample_count\n",
      "C:\\Users\\sheni\\AppData\\Local\\Programs\\Python\\Python313\\Lib\\site-packages\\sklearn\\utils\\extmath.py:1106: RuntimeWarning: invalid value encountered in divide\n",
      "  T = new_sum / new_sample_count\n",
      "C:\\Users\\sheni\\AppData\\Local\\Programs\\Python\\Python313\\Lib\\site-packages\\sklearn\\utils\\extmath.py:1126: RuntimeWarning: invalid value encountered in divide\n",
      "  new_unnormalized_variance -= correction**2 / new_sample_count\n"
     ]
    }
   ],
   "source": [
    "from sklearn.preprocessing import StandardScaler\n",
    "\n",
    "# Initialize the scaler\n",
    "standard_scaler = StandardScaler()\n",
    "\n",
    "# Apply Standard scaling\n",
    "df_standard_scaled = df.copy()\n",
    "df_standard_scaled[numerical_cols] = standard_scaler.fit_transform(df[numerical_cols])\n",
    "\n",
    "print(df_standard_scaled.head())  # View the transformed dataset\n"
   ]
  },
  {
   "cell_type": "markdown",
   "id": "62b52865-5d1c-4826-b451-dea8801abb0d",
   "metadata": {},
   "source": [
    "**Encoding Categorical Variables**"
   ]
  },
  {
   "cell_type": "code",
   "execution_count": 76,
   "id": "b551dac9-cfbf-4653-89cb-eba0f5efa1fa",
   "metadata": {},
   "outputs": [
    {
     "name": "stdout",
     "output_type": "stream",
     "text": [
      "Categorical columns: []\n"
     ]
    }
   ],
   "source": [
    "\n",
    "categorical_cols = df.select_dtypes(include=[\"object\"]).columns\n",
    "print(\"Categorical columns:\", categorical_cols.tolist())\n"
   ]
  },
  {
   "cell_type": "code",
   "execution_count": 79,
   "id": "d1c7688a-1655-4780-9073-ea7c513d2a44",
   "metadata": {},
   "outputs": [
    {
     "name": "stdout",
     "output_type": "stream",
     "text": [
      "           ID  Date House was Sold  Sale Price  No of Bedrooms  \\\n",
      "0  7129300520                  NaN    221900.0               3   \n",
      "1  6414100192                  NaN    538000.0               3   \n",
      "2  5631500400                  NaN    180000.0               2   \n",
      "3  2487200875                  NaN    604000.0               4   \n",
      "4  1954400510                  NaN    510000.0               3   \n",
      "\n",
      "   No of Bathrooms  Flat Area (in Sqft)  Lot Area (in Sqft)  No of Floors  \\\n",
      "0             1.00               1180.0              5650.0           1.0   \n",
      "1             2.25               2570.0              7242.0           2.0   \n",
      "2             1.00                770.0             10000.0           1.0   \n",
      "3             3.00               1960.0              5000.0           1.0   \n",
      "4             2.00               1680.0              8080.0           1.0   \n",
      "\n",
      "   Waterfront View  No of Times Visited  ...  Overall Grade  \\\n",
      "0              NaN                  NaN  ...              7   \n",
      "1              NaN                  NaN  ...              7   \n",
      "2              NaN                  NaN  ...              6   \n",
      "3              NaN                  NaN  ...              7   \n",
      "4              NaN                  NaN  ...              8   \n",
      "\n",
      "   Area of the House from Basement (in Sqft)  Basement Area (in Sqft)  \\\n",
      "0                                     1180.0                        0   \n",
      "1                                     2170.0                      400   \n",
      "2                                      770.0                        0   \n",
      "3                                     1050.0                      910   \n",
      "4                                     1680.0                        0   \n",
      "\n",
      "   Age of House (in Years)  Renovated Year  Zipcode  Latitude  Longitude  \\\n",
      "0                       63               0  98178.0   47.5112   -122.257   \n",
      "1                       67            1991  98125.0   47.7210   -122.319   \n",
      "2                       85               0  98028.0   47.7379   -122.233   \n",
      "3                       53               0  98136.0   47.5208   -122.393   \n",
      "4                       31               0  98074.0   47.6168   -122.045   \n",
      "\n",
      "   Living Area after Renovation (in Sqft)  Lot Area after Renovation (in Sqft)  \n",
      "0                                  1340.0                                 5650  \n",
      "1                                  1690.0                                 7639  \n",
      "2                                  2720.0                                 8062  \n",
      "3                                  1360.0                                 5000  \n",
      "4                                  1800.0                                 7503  \n",
      "\n",
      "[5 rows x 21 columns]\n"
     ]
    }
   ],
   "source": [
    "from sklearn.preprocessing import OneHotEncoder\n",
    "\n",
    "encoder = OneHotEncoder(drop=\"first\", sparse_output=False)  \n",
    "\n",
    "encoded_cols = encoder.fit_transform(df[categorical_cols])\n",
    "encoded_df = pd.DataFrame(encoded_cols, columns=encoder.get_feature_names_out(categorical_cols))\n",
    "\n",
    "df = pd.concat([df.drop(columns=categorical_cols), encoded_df], axis=1)\n",
    "\n",
    "print(df.head())   \n"
   ]
  },
  {
   "cell_type": "code",
   "execution_count": 80,
   "id": "55adc049-4f8e-49d5-b141-b059fd2d339f",
   "metadata": {},
   "outputs": [
    {
     "name": "stdout",
     "output_type": "stream",
     "text": [
      "[ 7  6  8 10  9  5  4  3  2  1]\n"
     ]
    }
   ],
   "source": [
    "print(df[\"Overall Grade\"].unique())\n"
   ]
  },
  {
   "cell_type": "code",
   "execution_count": 81,
   "id": "76becb9b-f593-43f9-9776-31ae6f13e1f2",
   "metadata": {},
   "outputs": [
    {
     "name": "stdout",
     "output_type": "stream",
     "text": [
      "           ID  Date House was Sold  Sale Price  No of Bedrooms  \\\n",
      "0  7129300520                  NaN    221900.0               3   \n",
      "1  6414100192                  NaN    538000.0               3   \n",
      "2  5631500400                  NaN    180000.0               2   \n",
      "3  2487200875                  NaN    604000.0               4   \n",
      "4  1954400510                  NaN    510000.0               3   \n",
      "\n",
      "   No of Bathrooms  Flat Area (in Sqft)  Lot Area (in Sqft)  No of Floors  \\\n",
      "0             1.00               1180.0              5650.0           1.0   \n",
      "1             2.25               2570.0              7242.0           2.0   \n",
      "2             1.00                770.0             10000.0           1.0   \n",
      "3             3.00               1960.0              5000.0           1.0   \n",
      "4             2.00               1680.0              8080.0           1.0   \n",
      "\n",
      "   Waterfront View  No of Times Visited  ...  Overall Grade  \\\n",
      "0              NaN                  NaN  ...              6   \n",
      "1              NaN                  NaN  ...              6   \n",
      "2              NaN                  NaN  ...              5   \n",
      "3              NaN                  NaN  ...              6   \n",
      "4              NaN                  NaN  ...              7   \n",
      "\n",
      "   Area of the House from Basement (in Sqft)  Basement Area (in Sqft)  \\\n",
      "0                                     1180.0                        0   \n",
      "1                                     2170.0                      400   \n",
      "2                                      770.0                        0   \n",
      "3                                     1050.0                      910   \n",
      "4                                     1680.0                        0   \n",
      "\n",
      "   Age of House (in Years)  Renovated Year  Zipcode  Latitude  Longitude  \\\n",
      "0                       63               0  98178.0   47.5112   -122.257   \n",
      "1                       67            1991  98125.0   47.7210   -122.319   \n",
      "2                       85               0  98028.0   47.7379   -122.233   \n",
      "3                       53               0  98136.0   47.5208   -122.393   \n",
      "4                       31               0  98074.0   47.6168   -122.045   \n",
      "\n",
      "   Living Area after Renovation (in Sqft)  Lot Area after Renovation (in Sqft)  \n",
      "0                                  1340.0                                 5650  \n",
      "1                                  1690.0                                 7639  \n",
      "2                                  2720.0                                 8062  \n",
      "3                                  1360.0                                 5000  \n",
      "4                                  1800.0                                 7503  \n",
      "\n",
      "[5 rows x 21 columns]\n"
     ]
    }
   ],
   "source": [
    "from sklearn.preprocessing import LabelEncoder\n",
    "\n",
    "label_encoder = LabelEncoder()\n",
    "\n",
    "df[\"Overall Grade\"] = label_encoder.fit_transform(df[\"Overall Grade\"])\n",
    "\n",
    "print(df.head())  \n"
   ]
  },
  {
   "cell_type": "code",
   "execution_count": 82,
   "id": "ca884e65-cf27-4c3f-a87d-e018bca2b4f4",
   "metadata": {},
   "outputs": [
    {
     "name": "stdout",
     "output_type": "stream",
     "text": [
      "Overall Grade\n",
      "6    8981\n",
      "7    6068\n",
      "8    2615\n",
      "5    2038\n",
      "9    1623\n",
      "4     242\n",
      "3      29\n",
      "1      13\n",
      "2       3\n",
      "0       1\n",
      "Name: count, dtype: int64\n"
     ]
    }
   ],
   "source": [
    "print(df[\"Overall Grade\"].value_counts())\n"
   ]
  },
  {
   "cell_type": "markdown",
   "id": "48911e02-8153-4bc3-a9d2-0c45a58aff8c",
   "metadata": {},
   "source": [
    "**Outlier Removal**"
   ]
  },
  {
   "cell_type": "code",
   "execution_count": 83,
   "id": "5982a28d-8be4-47f3-863a-01f56d74302e",
   "metadata": {},
   "outputs": [
    {
     "name": "stdout",
     "output_type": "stream",
     "text": [
      "ID: 0 outliers detected\n",
      "Date House was Sold: 0 outliers detected\n",
      "No of Bedrooms: 546 outliers detected\n",
      "No of Bathrooms: 571 outliers detected\n",
      "Flat Area (in Sqft): 572 outliers detected\n",
      "Lot Area (in Sqft): 2419 outliers detected\n",
      "No of Floors: 0 outliers detected\n",
      "Waterfront View: 0 outliers detected\n",
      "No of Times Visited: 0 outliers detected\n",
      "Condition of the House: 0 outliers detected\n",
      "Overall Grade: 1911 outliers detected\n",
      "Area of the House from Basement (in Sqft): 610 outliers detected\n",
      "Basement Area (in Sqft): 496 outliers detected\n",
      "Age of House (in Years): 0 outliers detected\n",
      "Renovated Year: 914 outliers detected\n",
      "Zipcode: 0 outliers detected\n",
      "Latitude: 2 outliers detected\n",
      "Longitude: 256 outliers detected\n",
      "Living Area after Renovation (in Sqft): 544 outliers detected\n",
      "Lot Area after Renovation (in Sqft): 2194 outliers detected\n"
     ]
    }
   ],
   "source": [
    "import numpy as np\n",
    "\n",
    "numerical_cols = df.select_dtypes(include=[\"number\"]).columns.drop(\"Sale Price\")\n",
    "\n",
    "for col in numerical_cols:\n",
    "    Q1 = df[col].quantile(0.25)\n",
    "    Q3 = df[col].quantile(0.75)\n",
    "    IQR = Q3 - Q1\n",
    "\n",
    "    lower_bound = Q1 - 1.5 * IQR\n",
    "    upper_bound = Q3 + 1.5 * IQR\n",
    "\n",
    "    outliers = df[(df[col] < lower_bound) | (df[col] > upper_bound)]\n",
    "    print(f\"{col}: {outliers.shape[0]} outliers detected\")\n",
    "\n"
   ]
  },
  {
   "cell_type": "code",
   "execution_count": 84,
   "id": "50dfcba8-93c9-46bb-bdfe-2e325e171758",
   "metadata": {},
   "outputs": [
    {
     "name": "stdout",
     "output_type": "stream",
     "text": [
      "New dataset shape after removing outliers: (0, 21)\n"
     ]
    }
   ],
   "source": [
    "for col in numerical_cols:\n",
    "    Q1 = df[col].quantile(0.25)\n",
    "    Q3 = df[col].quantile(0.75)\n",
    "    IQR = Q3 - Q1\n",
    "\n",
    "    lower_bound = Q1 - 1.5 * IQR\n",
    "    upper_bound = Q3 + 1.5 * IQR\n",
    "\n",
    "    df = df[(df[col] >= lower_bound) & (df[col] <= upper_bound)]\n",
    "\n",
    "print(f\"New dataset shape after removing outliers: {df.shape}\")\n"
   ]
  },
  {
   "cell_type": "markdown",
   "id": "d50e1687-059b-4e67-ae65-060e5d3028c6",
   "metadata": {},
   "source": [
    "import seaborn as sns\n",
    "import matplotlib.pyplot as plt\n",
    "\n",
    "# Plot boxplots to visualize post-cleaning\n",
    "plt.figure(figsize=(12, 6))\n",
    "sns.boxplot(data=df[numerical_cols])\n",
    "plt.xticks(rotation=45)\n",
    "plt.title(\"Boxplot of Numerical Features After Outlier Removal\")\n",
    "plt.show()\n"
   ]
  },
  {
   "cell_type": "markdown",
   "id": "13e1dcb6-485f-44ca-835c-205d69739d5b",
   "metadata": {},
   "source": [
    "**Train-Test Split**"
   ]
  },
  {
   "cell_type": "code",
   "execution_count": 85,
   "id": "d8084f69-47d9-41b9-9e40-fdcb472f4a5b",
   "metadata": {},
   "outputs": [
    {
     "data": {
      "text/plain": [
       "Series([], Name: Sale Price, dtype: float64)"
      ]
     },
     "execution_count": 85,
     "metadata": {},
     "output_type": "execute_result"
    }
   ],
   "source": [
    "from sklearn.model_selection import train_test_split\n",
    "\n",
    "X = df.drop(columns=[\"Sale Price\"]) \n",
    "X\n",
    "y = df[\"Sale Price\"] \n",
    "y"
   ]
  },
  {
   "cell_type": "code",
   "execution_count": null,
   "id": "ca1da8a8-8bdd-46e2-86e2-461e180756dc",
   "metadata": {},
   "outputs": [],
   "source": [
    "X_train, X_test, y_train, y_test = train_test_split(X, y, test_size=0.2, random_state=42)\n",
    "\n",
    "# Display the shape of the resulting sets\n",
    "print(f\"Training set: X_train shape: {X_train.shape}, y_train shape: {y_train.shape}\")\n",
    "print(f\"Testing set: X_test shape: {X_test.shape}, y_test shape: {y_test.shape}\")"
   ]
  }
 ],
 "metadata": {
  "kernelspec": {
   "display_name": "Python 3 (ipykernel)",
   "language": "python",
   "name": "python3"
  },
  "language_info": {
   "codemirror_mode": {
    "name": "ipython",
    "version": 3
   },
   "file_extension": ".py",
   "mimetype": "text/x-python",
   "name": "python",
   "nbconvert_exporter": "python",
   "pygments_lexer": "ipython3",
   "version": "3.13.2"
  }
 },
 "nbformat": 4,
 "nbformat_minor": 5
}
